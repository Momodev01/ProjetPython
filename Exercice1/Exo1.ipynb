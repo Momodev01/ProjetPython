{
 "cells": [
  {
   "cell_type": "markdown",
   "metadata": {},
   "source": [
    "### Exercice 1 \n",
    "Écrire un programme qui propose à l’utilisateur le menu de choix suivant : \n",
    "- f - Français\n",
    "- a - Anglais"
   ]
  },
  {
   "cell_type": "markdown",
   "metadata": {},
   "source": [
    "#### Règles de Gestion\n",
    "- Par défaut le programme affiche les mois en Français\n",
    "- Les mois sont stockés dans un tableau"
   ]
  },
  {
   "cell_type": "code",
   "execution_count": 1,
   "metadata": {},
   "outputs": [
    {
     "name": "stdout",
     "output_type": "stream",
     "text": [
      "Veuillez choisir une langue : \n",
      " f pour Français \n",
      " a pour Anglais\n",
      "Les mois en Anglais sont :\n",
      "['January', 'February', 'March', 'April', 'May', 'June', 'July', 'August', 'September', 'October', 'November', 'December']\n"
     ]
    }
   ],
   "source": [
    "# Liste des mois en Français\n",
    "moisFR = [\"Janvier\", \"Février\", \"Mars\", \"Avril\", \"Mai\", \"Juin\", \"Juillet\", \"Août\", \"Septembre\", \"Octobre\", \"Novembre\", \"Décembre\"]\n",
    "# Liste des mois en Anglais\n",
    "moisAN = [\"January\", \"February\", \"March\", \"April\", \"May\", \"June\", \"July\", \"August\", \"September\", \"October\", \"November\", \"December\"]\n",
    "\n",
    "# Donner la possibilité au user de faire son choix\n",
    "print(\"Veuillez choisir une langue : \\n f pour Français \\n a pour Anglais\" )\n",
    "choix = input(\"Entrez votre choix (f/a) : \").strip().lower()\n",
    "\n",
    "# Affichage des mois selon le choix (liste brute pour l'instant)\n",
    "if choix == \"f\":\n",
    "    print(\"Les mois en Français sont :\")\n",
    "    print(moisFR)\n",
    "elif choix == \"a\":\n",
    "    print(\"Les mois en Anglais sont :\")\n",
    "    print(moisAN)\n",
    "\n",
    "# Message en cas de choix non pris en compte\n",
    "else:\n",
    "    print(f\"La langue {choix} n'a pas de correspondance ici\")\n"
   ]
  },
  {
   "cell_type": "markdown",
   "metadata": {},
   "source": [
    "Optimisation (utilisation des fonctions)"
   ]
  },
  {
   "cell_type": "code",
   "execution_count": 2,
   "metadata": {},
   "outputs": [
    {
     "name": "stdout",
     "output_type": "stream",
     "text": [
      "Veuillez choisir une langue : \n",
      " f pour Français \n",
      " a pour Anglais\n",
      " - - - - - - - - - - - - - - - - - - - - - - - - - - - - -\n",
      " | January     | April       | July        | October    |\n",
      " - - - - - - - - - - - - - - - - - - - - - - - - - - - - -\n",
      " | February    | May         | August      | November   |\n",
      " - - - - - - - - - - - - - - - - - - - - - - - - - - - - -\n",
      " | March       | June        | September   | December   |\n",
      " - - - - - - - - - - - - - - - - - - - - - - - - - - - - -\n"
     ]
    }
   ],
   "source": [
    "# Liste des mois en Français\n",
    "Lemois={\n",
    "    'f': [\"Janvier\", \"Février\", \"Mars\", \"Avril\", \"Mai\", \"Juin\", \"Juillet\", \"Août\", \"Septembre\", \"Octobre\", \"Novembre\", \"Décembre\"],\n",
    "    'a': [\"January\", \"February\", \"March\", \"April\", \"May\", \"June\", \"July\", \"August\", \"September\", \"October\", \"November\", \"December\"]\n",
    "}\n",
    "\n",
    "# Donner la possibilité au user de faire son choix\n",
    "def menu():\n",
    "    print(\"Veuillez choisir une langue : \\n f pour Français \\n a pour Anglais\" )\n",
    " \n",
    "# Une fonction qui permet de recupérer le choix\n",
    "def choix_langue():\n",
    "    menu()\n",
    "    choix = input(\"Choisissez une langue (f/a) : \").strip().lower()\n",
    "    while choix not in ['f', 'a']:\n",
    "        print(\"Veuillez faire un choix valide ('f' ou 'a')\")\n",
    "        choix = input(\"Entrez votre choix (f/a) : \").strip().lower()\n",
    "    return  Lemois[choix]\n",
    "\n",
    "# Une fonction qui permet de faire l'affichage selon le choix\n",
    "def affichage(mois):\n",
    "    \n",
    "    # Cette boucle for me permet de parcourir le tableau et l'affichage\n",
    "    # Le signe : est un spécificateur de format et le nombre 15 indique la largeur du champ (nombre de carateres)\n",
    "    t = 29\n",
    "    print(' -' * t)\n",
    "    for i in range(0, 3):\n",
    "        for j in range(0, 4):\n",
    "            print(f\" | {mois[i+3*j]:10}\",end=\" \")\n",
    "        print('|')\n",
    "        print(' -' * t)\n",
    "\n",
    "affichage(choix_langue())"
   ]
  }
 ],
 "metadata": {
  "kernelspec": {
   "display_name": "Python 3",
   "language": "python",
   "name": "python3"
  },
  "language_info": {
   "codemirror_mode": {
    "name": "ipython",
    "version": 3
   },
   "file_extension": ".py",
   "mimetype": "text/x-python",
   "name": "python",
   "nbconvert_exporter": "python",
   "pygments_lexer": "ipython3",
   "version": "3.12.1"
  }
 },
 "nbformat": 4,
 "nbformat_minor": 2
}
